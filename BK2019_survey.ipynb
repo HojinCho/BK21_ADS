{
 "cells": [
  {
   "cell_type": "markdown",
   "metadata": {},
   "source": [
    "## Checking versions\n",
    "Please do not run this code on your computer if you don't understand what it is."
   ]
  },
  {
   "cell_type": "code",
   "execution_count": 24,
   "metadata": {},
   "outputs": [
    {
     "name": "stdout",
     "output_type": "stream",
     "text": [
      "The version_information extension is already loaded. To reload it, use:\n",
      "  %reload_ext version_information\n",
      "This notebook was generated at 2019-07-02 11:12:32 (KST = GMT+0900) \n",
      "0 Python     3.7.3 64bit [Clang 4.0.1 (tags/RELEASE_401/final)]\n",
      "1 IPython    6.5.0\n",
      "2 OS         Darwin 18.6.0 x86_64 i386 64bit\n",
      "3 requests   2.22.0\n",
      "4 tqdm       4.32.1\n",
      "5 pandas     0.24.2\n",
      "6 astroquery 0.3.10.dev5533\n",
      "7 version_information 1.0.3\n"
     ]
    }
   ],
   "source": [
    "%load_ext version_information\n",
    "import time\n",
    "now = time.strftime(\"%Y-%m-%d %H:%M:%S (%Z = GMT%z)\")\n",
    "print(f\"This notebook was generated at {now} \")\n",
    "\n",
    "vv = %version_information requests, tqdm, pandas, astroquery, version_information\n",
    "for i, pkg in enumerate(vv.packages):\n",
    "    print(f\"{i} {pkg[0]:10s} {pkg[1]:s}\")"
   ]
  },
  {
   "cell_type": "markdown",
   "metadata": {},
   "source": [
    "## Importing and Setting Up"
   ]
  },
  {
   "cell_type": "code",
   "execution_count": 1,
   "metadata": {},
   "outputs": [],
   "source": [
    "from astroquery import nasa_ads as na\n",
    "import requests\n",
    "import time\n",
    "from pathlib import Path\n",
    "import math\n",
    "from tqdm import tqdm\n",
    "\n",
    "# helped from https://stackoverflow.com/questions/37573483/progress-bar-while-download-file-over-http-with-requests\n",
    "def download_pdf(response, fpath):\n",
    "    total_size = int(response.headers.get('content-length', 0)); \n",
    "    block_size = 1024\n",
    "    wrote = 0 \n",
    "    with open(fpath, 'wb') as f:\n",
    "        for data in tqdm(response.iter_content(block_size), total=math.ceil(total_size//block_size), unit='kB', unit_scale=True):\n",
    "            wrote = wrote + len(data)\n",
    "            f.write(data)\n",
    "#     if total_size != 0 and wrote != total_size:\n",
    "#         print(\"ERROR, something went wrong\")  "
   ]
  },
  {
   "cell_type": "markdown",
   "metadata": {},
   "source": [
    "## Query to ADS"
   ]
  },
  {
   "cell_type": "code",
   "execution_count": 27,
   "metadata": {},
   "outputs": [
    {
     "name": "stdout",
     "output_type": "stream",
     "text": [
      "Query with: \n",
      "\t author:\"=Ishiguro, Masateru\" year:2000-2019\n",
      "ADS contains 305 match with <Ishiguro, Masateru> (refreed: 129) in 2000-2019.\n",
      "Hey Ishiguro, Masateru, you are awesome.\n"
     ]
    }
   ],
   "source": [
    "# if you don't store your token as an environment variable\n",
    "# or in a file, give it here\n",
    "na.ADS.TOKEN = 'RXPglegHZqHD6dav0ur6sac6ZXFYPdMMdJbaes1F'\n",
    "\n",
    "# by default, the top 10 records are returned, sorted in\n",
    "# reverse chronological order. This can be changed\n",
    "\n",
    "# change the number of rows returned\n",
    "na.ADS.NROWS = 9999\n",
    "\n",
    "# change the fields that are returned (enter as strings in a list)\n",
    "na.ADS.ADS_FIELDS = [\"title\", \"bibcode\", \"author\", \"pubdate\", \"property\", \"esources\",\n",
    "                     \"pub\", \"issn\", \"volume\", \"issue\", \"page\", \"doi\", \"arxiv\", \"bibstem\"]\n",
    "\n",
    "author = \"Ishiguro, Masateru\"\n",
    "year = \"2000-2019\"\n",
    "query_str = f'author:\"={author}\" year:{year}'\n",
    "print(f\"Query with: \\n\\t {query_str}\")\n",
    "results = na.ADS.query_simple(query_str)\n",
    "\n",
    "results.sort(['pubdate', \"title\"])\n",
    "\n",
    "# flatten the shape to convert to pandas... \n",
    "# I currently don't know what bad thing will happen.\n",
    "# It was OK when I tested for my personal purposes.\n",
    "for c in results.colnames:\n",
    "    if len(results[c].shape) > 1:\n",
    "        results[c] = results[c][:, 0]\n",
    "\n",
    "results = results.to_pandas()\n",
    "\n",
    "results[\"N_author\"] = results[\"author\"].str.len()\n",
    "results[\"YYYYMM\"] = results[\"pubdate\"].str[:-3].str.replace(\"-\", \"\").astype(int)\n",
    "results[\"refereed\"] = [True if \"REFEREED\" in row[\"property\"] else False for i, row in results.iterrows()]\n",
    "\n",
    "results_ref = results[results[\"refereed\"]==True]\n",
    "\n",
    "print(f\"ADS contains {len(results)} match with <{author}> (refreed: {len(results_ref)}) in {year}.\")\n",
    "if len(results_ref) > 100:\n",
    "    print(f\"Hey {author}, you are awesome.\")"
   ]
  },
  {
   "cell_type": "markdown",
   "metadata": {},
   "source": [
    "See http://adsabs.github.io/help/search/comprehensive-solr-term-list for the complete list of columns"
   ]
  },
  {
   "cell_type": "markdown",
   "metadata": {},
   "source": [
    "## Select Rows for This BK Survey\n",
    "I will select those with ``201803 <= YYYYMM <= 201908``. Also, based on the columns of ``2019보고서요청자료(연구실) - 논문`` Excel file, I will only select the \n",
    "\n",
    "1. title\n",
    "2. journal (full name)\n",
    "3. issn\n",
    "4. volume\n",
    "5. issue\n",
    "6. page\n",
    "7. YYYYMM\n",
    "8. number of authors \n",
    "\n",
    "in this order. It will be saved as ``BK2019_ishiguro.csv`` and you can open it with Excel, copy-and-paste to the original Excel file.\n",
    "* **WARNING**: The formatting is crazy in the original Excel, so you should do it by yourself."
   ]
  },
  {
   "cell_type": "code",
   "execution_count": 2,
   "metadata": {},
   "outputs": [],
   "source": [
    "results_ref_2019 = results_ref[(results_ref[\"YYYYMM\"] >= 201803) & (results_ref[\"YYYYMM\"] <= 201908)]\n",
    "results_ref_BK2019 = results_ref_2019[[\"title\", \"pub\", \"issn\", \"volume\", \"issue\", \"page\", \"YYYYMM\", \"N_author\"]]\n",
    "results_ref_BK2019.to_csv(\"BK2019_ishiguro.csv\", index=False)"
   ]
  },
  {
   "cell_type": "code",
   "execution_count": 3,
   "metadata": {},
   "outputs": [
    {
     "data": {
      "text/html": [
       "<div>\n",
       "<style scoped>\n",
       "    .dataframe tbody tr th:only-of-type {\n",
       "        vertical-align: middle;\n",
       "    }\n",
       "\n",
       "    .dataframe tbody tr th {\n",
       "        vertical-align: top;\n",
       "    }\n",
       "\n",
       "    .dataframe thead th {\n",
       "        text-align: right;\n",
       "    }\n",
       "</style>\n",
       "<table border=\"1\" class=\"dataframe\">\n",
       "  <thead>\n",
       "    <tr style=\"text-align: right;\">\n",
       "      <th></th>\n",
       "      <th>title</th>\n",
       "      <th>pub</th>\n",
       "      <th>issn</th>\n",
       "      <th>volume</th>\n",
       "      <th>issue</th>\n",
       "      <th>page</th>\n",
       "      <th>YYYYMM</th>\n",
       "      <th>N_author</th>\n",
       "    </tr>\n",
       "  </thead>\n",
       "  <tbody>\n",
       "    <tr>\n",
       "      <th>285</th>\n",
       "      <td>Significantly high polarization degree of the ...</td>\n",
       "      <td>Astronomy and Astrophysics</td>\n",
       "      <td>None</td>\n",
       "      <td>611</td>\n",
       "      <td>[None]</td>\n",
       "      <td>A31</td>\n",
       "      <td>201803</td>\n",
       "      <td>10</td>\n",
       "    </tr>\n",
       "    <tr>\n",
       "      <th>286</th>\n",
       "      <td>Extremely strong polarization of an active ast...</td>\n",
       "      <td>Nature Communications</td>\n",
       "      <td>None</td>\n",
       "      <td>9</td>\n",
       "      <td>[None]</td>\n",
       "      <td>2486</td>\n",
       "      <td>201806</td>\n",
       "      <td>12</td>\n",
       "    </tr>\n",
       "    <tr>\n",
       "      <th>287</th>\n",
       "      <td>The Reactivation and Nucleus Characterization ...</td>\n",
       "      <td>The Astronomical Journal</td>\n",
       "      <td>None</td>\n",
       "      <td>156</td>\n",
       "      <td>1</td>\n",
       "      <td>39</td>\n",
       "      <td>201807</td>\n",
       "      <td>7</td>\n",
       "    </tr>\n",
       "    <tr>\n",
       "      <th>288</th>\n",
       "      <td>Opposition effect on S-type asteroid (25143) I...</td>\n",
       "      <td>Astronomy and Astrophysics</td>\n",
       "      <td>None</td>\n",
       "      <td>616</td>\n",
       "      <td>[None]</td>\n",
       "      <td>A178</td>\n",
       "      <td>201809</td>\n",
       "      <td>2</td>\n",
       "    </tr>\n",
       "    <tr>\n",
       "      <th>292</th>\n",
       "      <td>Optical observations of NEA 3200 Phaethon (198...</td>\n",
       "      <td>Astronomy and Astrophysics</td>\n",
       "      <td>None</td>\n",
       "      <td>619</td>\n",
       "      <td>[None]</td>\n",
       "      <td>A123</td>\n",
       "      <td>201811</td>\n",
       "      <td>27</td>\n",
       "    </tr>\n",
       "    <tr>\n",
       "      <th>293</th>\n",
       "      <td>The 2016 Reactivations of the Main-belt Comets...</td>\n",
       "      <td>The Astronomical Journal</td>\n",
       "      <td>None</td>\n",
       "      <td>156</td>\n",
       "      <td>5</td>\n",
       "      <td>223</td>\n",
       "      <td>201811</td>\n",
       "      <td>10</td>\n",
       "    </tr>\n",
       "    <tr>\n",
       "      <th>294</th>\n",
       "      <td>High polarization degree of the continuum of c...</td>\n",
       "      <td>Astronomy and Astrophysics</td>\n",
       "      <td>None</td>\n",
       "      <td>620</td>\n",
       "      <td>[None]</td>\n",
       "      <td>A161</td>\n",
       "      <td>201812</td>\n",
       "      <td>19</td>\n",
       "    </tr>\n",
       "    <tr>\n",
       "      <th>295</th>\n",
       "      <td>Physical properties of near-Earth asteroids wi...</td>\n",
       "      <td>Publications of the Astronomical Society of Japan</td>\n",
       "      <td>None</td>\n",
       "      <td>70</td>\n",
       "      <td>6</td>\n",
       "      <td>114</td>\n",
       "      <td>201812</td>\n",
       "      <td>43</td>\n",
       "    </tr>\n",
       "    <tr>\n",
       "      <th>300</th>\n",
       "      <td>Hayabusa2 arrives at the carbonaceous asteroid...</td>\n",
       "      <td>Science</td>\n",
       "      <td>None</td>\n",
       "      <td>364</td>\n",
       "      <td>6437</td>\n",
       "      <td>268</td>\n",
       "      <td>201904</td>\n",
       "      <td>88</td>\n",
       "    </tr>\n",
       "    <tr>\n",
       "      <th>301</th>\n",
       "      <td>Shape and Rotational Motion Models for Tumblin...</td>\n",
       "      <td>The Astronomical Journal</td>\n",
       "      <td>None</td>\n",
       "      <td>157</td>\n",
       "      <td>4</td>\n",
       "      <td>155</td>\n",
       "      <td>201904</td>\n",
       "      <td>16</td>\n",
       "    </tr>\n",
       "    <tr>\n",
       "      <th>302</th>\n",
       "      <td>The geomorphology, color, and thermal properti...</td>\n",
       "      <td>Science</td>\n",
       "      <td>None</td>\n",
       "      <td>364</td>\n",
       "      <td>6437</td>\n",
       "      <td>252</td>\n",
       "      <td>201904</td>\n",
       "      <td>120</td>\n",
       "    </tr>\n",
       "  </tbody>\n",
       "</table>\n",
       "</div>"
      ],
      "text/plain": [
       "                                                 title  \\\n",
       "285  Significantly high polarization degree of the ...   \n",
       "286  Extremely strong polarization of an active ast...   \n",
       "287  The Reactivation and Nucleus Characterization ...   \n",
       "288  Opposition effect on S-type asteroid (25143) I...   \n",
       "292  Optical observations of NEA 3200 Phaethon (198...   \n",
       "293  The 2016 Reactivations of the Main-belt Comets...   \n",
       "294  High polarization degree of the continuum of c...   \n",
       "295  Physical properties of near-Earth asteroids wi...   \n",
       "300  Hayabusa2 arrives at the carbonaceous asteroid...   \n",
       "301  Shape and Rotational Motion Models for Tumblin...   \n",
       "302  The geomorphology, color, and thermal properti...   \n",
       "\n",
       "                                                   pub  issn volume   issue  \\\n",
       "285                         Astronomy and Astrophysics  None    611  [None]   \n",
       "286                              Nature Communications  None      9  [None]   \n",
       "287                           The Astronomical Journal  None    156       1   \n",
       "288                         Astronomy and Astrophysics  None    616  [None]   \n",
       "292                         Astronomy and Astrophysics  None    619  [None]   \n",
       "293                           The Astronomical Journal  None    156       5   \n",
       "294                         Astronomy and Astrophysics  None    620  [None]   \n",
       "295  Publications of the Astronomical Society of Japan  None     70       6   \n",
       "300                                            Science  None    364    6437   \n",
       "301                           The Astronomical Journal  None    157       4   \n",
       "302                                            Science  None    364    6437   \n",
       "\n",
       "     page  YYYYMM  N_author  \n",
       "285   A31  201803        10  \n",
       "286  2486  201806        12  \n",
       "287    39  201807         7  \n",
       "288  A178  201809         2  \n",
       "292  A123  201811        27  \n",
       "293   223  201811        10  \n",
       "294  A161  201812        19  \n",
       "295   114  201812        43  \n",
       "300   268  201904        88  \n",
       "301   155  201904        16  \n",
       "302   252  201904       120  "
      ]
     },
     "execution_count": 3,
     "metadata": {},
     "output_type": "execute_result"
    }
   ],
   "source": [
    "results_ref_BK2019"
   ]
  },
  {
   "cell_type": "markdown",
   "metadata": {},
   "source": [
    "## Download the PDF Files of the Papers\n",
    "I will use the ADS web link and try\n",
    "1. to access to the publisher's PDF if available\n",
    "  - For Science, the publisher's PDF link is not directed to the full pdf, so I added some conditional clause.\n",
    "2. if unavailable, I tried something\n",
    "  - Nature, for example, adding ``.pdf`` seem to direct you to the pdf.\n",
    "  \n",
    "As time goes, I will add more exceptions so that it works as perfect as possible."
   ]
  },
  {
   "cell_type": "code",
   "execution_count": 25,
   "metadata": {},
   "outputs": [
    {
     "name": "stdout",
     "output_type": "stream",
     "text": [
      "2018A&A...611A..31K.pdf is freely available from ADS: Downloading... \n",
      "\thttps://www.aanda.org/articles/aa/pdf/2018/03/aa32086-17.pdf\n"
     ]
    },
    {
     "name": "stderr",
     "output_type": "stream",
     "text": [
      "1.70kkB [00:05, 315kB/s]                           \n"
     ]
    },
    {
     "name": "stdout",
     "output_type": "stream",
     "text": [
      "2018NatCo...9.2486I.pdf trying to find pdf... I found it! Downloading... \n",
      "\thttps://www.nature.com/articles/s41467-018-04727-2.pdf\n"
     ]
    },
    {
     "name": "stderr",
     "output_type": "stream",
     "text": [
      "749kB [00:00, 4.45kkB/s]                         \n"
     ]
    },
    {
     "name": "stdout",
     "output_type": "stream",
     "text": [
      "2018AJ....156...39H.pdf is freely available from ADS: Downloading... \n",
      "\thttps://iopscience.iop.org/article/10.3847/1538-3881/aac81c/pdf\n"
     ]
    },
    {
     "name": "stderr",
     "output_type": "stream",
     "text": [
      "1.84kkB [00:06, 273kB/s]\n"
     ]
    },
    {
     "name": "stdout",
     "output_type": "stream",
     "text": [
      "2018A&A...616A.178L.pdf is freely available from ADS: Downloading... \n",
      "\thttps://www.aanda.org/articles/aa/pdf/2018/08/aa32721-18.pdf\n"
     ]
    },
    {
     "name": "stderr",
     "output_type": "stream",
     "text": [
      "6.52kkB [00:08, 774kB/s]                           \n"
     ]
    },
    {
     "name": "stdout",
     "output_type": "stream",
     "text": [
      "2018A&A...619A.123K.pdf is freely available from ADS: Downloading... \n",
      "\thttps://www.aanda.org/articles/aa/pdf/2018/11/aa33593-18.pdf\n"
     ]
    },
    {
     "name": "stderr",
     "output_type": "stream",
     "text": [
      "1.77kkB [00:02, 732kB/s]                           \n"
     ]
    },
    {
     "name": "stdout",
     "output_type": "stream",
     "text": [
      "2018AJ....156..223H.pdf is freely available from ADS: Downloading... \n",
      "\thttps://iopscience.iop.org/article/10.3847/1538-3881/aae528/pdf\n"
     ]
    },
    {
     "name": "stderr",
     "output_type": "stream",
     "text": [
      "2.29kkB [00:06, 373kB/s]\n"
     ]
    },
    {
     "name": "stdout",
     "output_type": "stream",
     "text": [
      "2018A&A...620A.161K.pdf is freely available from ADS: Downloading... \n",
      "\thttps://www.aanda.org/articles/aa/pdf/2018/12/aa33968-18.pdf\n"
     ]
    },
    {
     "name": "stderr",
     "output_type": "stream",
     "text": [
      "1.87kkB [00:02, 653kB/s]                           \n"
     ]
    },
    {
     "name": "stdout",
     "output_type": "stream",
     "text": [
      "2018PASJ...70..114H.pdf is freely available from ADS: Downloading... \n",
      "\thttps://watermark.silverchair.com/psy119.pdf?token=AQECAHi208BE49Ooan9kkhW_Ercy7Dm3ZL_9Cf3qfKAc485ysgAAAlwwggJYBgkqhkiG9w0BBwagggJJMIICRQIBADCCAj4GCSqGSIb3DQEHATAeBglghkgBZQMEAS4wEQQMRcQopE7tgUDumUR3AgEQgIICD83SiNFFndqDC-xSosEzxPKdDt3Mm5ytHI81USEkS5dE_sciSOqUIZp98kFqbPqY6DfeYixEcpjdGX0VWhsjriUadWB5-j87wybDotKeZD4d9w_8f7akDL2PHvZyLt-FWuvAOCR54eF6c1poYe7LUhUm9ybRgSgrKayk4rVJm5Mql7-HLBp24bWlssa5kBZjMn3OFDagKDty8UjdRzev7AbysyIPGOi6Hbshkbh_9OPI_sZsplsNyJvFECZwcaJLBz9ENo3dLQmi8KxDacS0OWiUSjzJEH_0aRsIMJsCgHQOP3uIyD8VeDHNt_B53X_3QJuXFL-zo-GkSk1D1QLpWqBrpM8TQZ8IbY-F3oW1gSj78BhLaO--ffbenF37U5FhcqqKiUtK2CeXSYEhF8YkBVXI-EroNvpOcm2OwdF47O_FFJeiiaG87e6XBdDtYxq-dR3kHpCTAywP_CMTYG-lrvPp5QZNLQIZDAhF4_MajNDcM3FpoDtR5yZqwVjdva9W1kUlr2ldwlCe10-4mEormfZcXey9hmtMuJh2bIle51l_wGYGBtJoAGyWSD_SCZ3NFKuadYdzoR6nHZlAcTz35th2waVmydEFGd3xwvKy2vYhLC4CV5xCSYmwVp15JrpZg0syutlCTn3ydvi31yNS1A9wiCLZoU2VrVnfuPZC1MJj79gvo3yF3Pe6KB2ogbSH\n"
     ]
    },
    {
     "name": "stderr",
     "output_type": "stream",
     "text": [
      "3.42kkB [00:21, 161kB/s]                            \n"
     ]
    },
    {
     "name": "stdout",
     "output_type": "stream",
     "text": [
      "2019Sci...364..268W.pdf is freely available from ADS: Downloading... \n",
      "\thttps://science.sciencemag.org/content/sci/364/6437/268.full.pdf\n"
     ]
    },
    {
     "name": "stderr",
     "output_type": "stream",
     "text": [
      "839kB [00:00, 1.46kkB/s]                         \n"
     ]
    },
    {
     "name": "stdout",
     "output_type": "stream",
     "text": [
      "2019AJ....157..155U.pdf is freely available from ADS: Downloading... \n",
      "\thttps://iopscience.iop.org/article/10.3847/1538-3881/ab09f0/pdf\n"
     ]
    },
    {
     "name": "stderr",
     "output_type": "stream",
     "text": [
      "1.94kkB [00:02, 926kB/s]\n"
     ]
    },
    {
     "name": "stdout",
     "output_type": "stream",
     "text": [
      "2019Sci...364..252S.pdf is freely available from ADS: Downloading... \n",
      "\thttps://science.sciencemag.org/content/sci/364/6437/eaaw0422.full.pdf\n"
     ]
    },
    {
     "name": "stderr",
     "output_type": "stream",
     "text": [
      "12.5kkB [00:24, 519kB/s]                           \n"
     ]
    }
   ],
   "source": [
    "BASE = \"https://ui.adsabs.harvard.edu/link_gateway/\"\n",
    "# helped from https://stackoverflow.com/questions/43165341/python3-requests-connectionerror-connection-aborted-oserror104-econnr/43167631\n",
    "headers = requests.utils.default_headers()\n",
    "headers['User-Agent'] = 'Mozilla/5.0 (X11; Linux x86_64) AppleWebKit/537.36 (KHTML, like Gecko) Chrome/56.0.2924.87 Safari/537.36'\n",
    "\n",
    "for i, row in results_ref_2019.iterrows():\n",
    "    bib = row[\"bibcode\"]\n",
    "    fpath = Path('{}.pdf'.format(bib))\n",
    "    print(fpath, end=' ')\n",
    "    \n",
    "    if fpath.exists():\n",
    "        print('already exists!'.format(bib))\n",
    "        continue\n",
    "        \n",
    "    if \"PUB_PDF\" in row[\"esources\"]:\n",
    "        url = BASE + row[\"bibcode\"] + \"/PUB_PDF\"\n",
    "        print('is freely available from ADS: Downloading...'.format(bib), end=' ')\n",
    "\n",
    "        response = requests.get(url, headers=headers, stream=True)\n",
    "        \n",
    "        if \"Science\" in row[\"pub\"]:\n",
    "            if response.url.endswith(\"/tab-pdf\"):\n",
    "                url = response.url.replace(\"/tab-pdf\", \".full.pdf\")\n",
    "            else:\n",
    "                url = response.url + \".full.pdf\"\n",
    "            response = requests.get(url, headers=headers, stream=True)\n",
    "\n",
    "        print(\"\\n\\t\" + response.url)\n",
    "        time.sleep(1)\n",
    "        \n",
    "        download_pdf(response, fpath)\n",
    "\n",
    "    else:\n",
    "        try:\n",
    "            print(\"trying to find pdf...\", end=' ')\n",
    "            url = BASE + row[\"bibcode\"] + \"/PUB_HTML\"\n",
    "            response = requests.get(url, headers=headers, stream=True)\n",
    "            url = response.url + \".pdf\"\n",
    "            response = requests.get(url, headers=headers, stream=True)\n",
    "            if response.status_code == 404:\n",
    "                raise ConnectionError()\n",
    "            print('I found it! Downloading...'.format(bib), end=' ')\n",
    "            print(\"\\n\\t\" + response.url)\n",
    "            time.sleep(1)\n",
    "        \n",
    "            download_pdf(response, fpath)\n",
    "            \n",
    "        except ConnectionError:            \n",
    "            print(\"!!! I couldn't find a valid link. Download from below:\".format(bib))\n",
    "            print(\"\\t\" + BASE + bib + \"/PUB_HTML\")\n"
   ]
  },
  {
   "cell_type": "markdown",
   "metadata": {},
   "source": [
    "* **WARNING**: You may have some papers that are accepted but not on ADS yet. You **MUST** find those by yourself!!!"
   ]
  },
  {
   "cell_type": "code",
   "execution_count": null,
   "metadata": {},
   "outputs": [],
   "source": []
  }
 ],
 "metadata": {
  "kernelspec": {
   "display_name": "Python 3",
   "language": "python",
   "name": "python3"
  },
  "language_info": {
   "codemirror_mode": {
    "name": "ipython",
    "version": 3
   },
   "file_extension": ".py",
   "mimetype": "text/x-python",
   "name": "python",
   "nbconvert_exporter": "python",
   "pygments_lexer": "ipython3",
   "version": "3.7.3"
  }
 },
 "nbformat": 4,
 "nbformat_minor": 2
}
